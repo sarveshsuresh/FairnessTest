{
  "nbformat": 4,
  "nbformat_minor": 0,
  "metadata": {
    "colab": {
      "name": "FairnessFramework.ipynb",
      "provenance": []
    },
    "kernelspec": {
      "name": "python3",
      "display_name": "Python 3"
    },
    "language_info": {
      "name": "python"
    }
  },
  "cells": [
    {
      "cell_type": "code",
      "execution_count": 98,
      "metadata": {
        "id": "Pz8UvSOjqP3p"
      },
      "outputs": [],
      "source": [
        "import pandas as pd\n",
        "import numpy as np\n",
        "import seaborn as sns  \n",
        "import matplotlib.pyplot as plt\n",
        "from sklearn.preprocessing import LabelEncoder\n",
        "from sklearn.preprocessing import OneHotEncoder\n",
        "from sklearn import tree\n",
        "from sklearn.linear_model import LogisticRegression\n",
        "from sklearn.model_selection import train_test_split\n",
        "from sklearn.model_selection import StratifiedKFold\n",
        "from sklearn.model_selection import RandomizedSearchCV, GridSearchCV\n",
        "from xgboost import XGBClassifier"
      ]
    },
    {
      "cell_type": "code",
      "source": [
        "def preprocess(dfr,target):\n",
        "  df=dfr\n",
        "  cols = list(df.columns)\n",
        "  cols.remove(target)\n",
        "  num_cols = list(df.drop(columns=[target])._get_numeric_data().columns)\n",
        "  cat_cols=list(set(cols) - set(num_cols))\n",
        "  #return(num_cols,cat_cols)\n",
        "\n",
        "  for column in num_cols:\n",
        "    if len(list(df[column].unique()))<10:\n",
        "      df[column]=df[column].astype('str')\n",
        "      df[column].fillna('missing',inplace=True)\n",
        "\n",
        "    else:\n",
        "      df[column].fillna(np.mean(df[column]),inplace=True)\n",
        "\n",
        "  for column in cat_cols:\n",
        "    df[column].fillna('missing',inplace=True)\n",
        "    if len(list(df[column].unique()))>10:\n",
        "      df=df.drop(columns=[column])\n",
        "\n",
        "\n",
        "  \n",
        "\n",
        "  return(df)\n",
        "\n",
        "    \n",
        "\n",
        "\n",
        "\n",
        " \n",
        "\n",
        "\n"
      ],
      "metadata": {
        "id": "43xRBjBtqZEh"
      },
      "execution_count": 155,
      "outputs": []
    },
    {
      "cell_type": "code",
      "source": [
        "def modelling(dfr,target,model,test_size):\n",
        "  df=dfr\n",
        "  cols = list(df.columns)\n",
        "  cols.remove(target)\n",
        "  num_cols = list(df.drop(columns=[target])._get_numeric_data().columns)\n",
        "  cat_cols=list(set(cols) - set(num_cols))\n",
        "  if model =='xgb' or model=='dt' or model=='rf' or model=='lgbm' or model=='catboost':\n",
        "    for column in cat_cols:\n",
        "      encoder=LabelEncoder()\n",
        "\n",
        "      df[column] = (encoder.fit_transform(df[column]))\n",
        "\n",
        "    y=df[target]\n",
        "    df_train,df_test=train_test_split(df,test_size=test_size,stratify=y) #stratified sampling\n",
        "    X,Y=df_train.drop(columns=[target]),df_train[target]\n",
        "    #print(X)\n",
        "\n",
        "    if model=='dt':\n",
        "      clf = tree.DecisionTreeClassifier()\n",
        "      clf = clf.fit(X, Y)\n",
        "      df_test['prediction']=clf.predict(df_test.drop(columns=[target]))\n",
        "      data_crosstab = pd.crosstab(df_test[target],\n",
        "                          df_test['prediction'], \n",
        "                              margins = False)\n",
        "      \n",
        "      #return(data_crosstab)\n",
        "      return(df_test)\n",
        "\n",
        "    if model=='xgb':\n",
        "      params = {\n",
        "        'min_child_weight': [1, 5, 10],\n",
        "        'gamma': [0.5, 1, 1.5, 2, 5],\n",
        "        'subsample': [0.6, 0.8, 1.0],\n",
        "        'colsample_bytree': [0.6, 0.8, 1.0],\n",
        "        'max_depth': [3, 4, 5]\n",
        "        }\n",
        "\n",
        "      xgb = XGBClassifier(learning_rate=0.08, n_estimators=500, objective='binary:logistic',\n",
        "                    silent=True, nthread=1)\n",
        "      folds = 3\n",
        "      param_comb = len(params)\n",
        "\n",
        "      skf = StratifiedKFold(n_splits=folds, shuffle = True, random_state = 42)\n",
        "\n",
        "      random_search = RandomizedSearchCV(xgb, param_distributions=params, n_iter=param_comb, scoring='accuracy', n_jobs=4, cv=skf.split(X,Y), random_state=42 )\n",
        "\n",
        "      random_search.fit(X,Y)\n",
        "\n",
        "      df_test['prediction']=random_search.predict(df_test.drop(columns=[target]))\n",
        "      data_crosstab_xgb = pd.crosstab(df_test[target],\n",
        "                          df_test['prediction'], \n",
        "                              margins = False)\n",
        "      \n",
        "      #return(data_crosstab_xgb)\n",
        "      return(df_test)\n",
        "\n",
        "      \n",
        "\n",
        "\n",
        "  elif model=='logreg' or model=='svm':\n",
        "    df=pd.get_dummies(df,columns=cat_cols,drop_first=True)\n",
        "    y=df[target]\n",
        "    df_train,df_test=train_test_split(df,test_size=test_size,stratify=y) #stratified sampling\n",
        "    X,Y=df_train.drop(columns=[target]),df_train[target]\n",
        "\n",
        "    if model=='logreg':\n",
        "      clf=LogisticRegression()\n",
        "      clf.fit(X,Y)\n",
        "      df_test['prediction']=clf.predict(df_test.drop(columns=[target]))\n",
        "      data_crosstab = pd.crosstab(df_test[target],\n",
        "                          df_test['prediction'], \n",
        "                              margins = False)\n",
        "      \n",
        "      #return(data_crosstab)\n",
        "      return(df_test)\n",
        "\n",
        "\n",
        "    \n",
        "\n",
        "  #return(df)\n",
        "  \n",
        "\n",
        "\n",
        "\n",
        "\n",
        "\n"
      ],
      "metadata": {
        "id": "lKPLXZxQ18c6"
      },
      "execution_count": 157,
      "outputs": []
    },
    {
      "cell_type": "code",
      "source": [
        "def prop_parity(cross,tp,fp,tn,fn):\n",
        "  val=(tp+fp)/(tp+fp+tn+fn)\n",
        "  return(val)"
      ],
      "metadata": {
        "id": "47P3cJy1OJfj"
      },
      "execution_count": 158,
      "outputs": []
    },
    {
      "cell_type": "code",
      "source": [
        "def compare_groups(dataframe,column,metric,actual,preds,pos,neg):\n",
        "  dff=pd.DataFrame()\n",
        "  levells=[]\n",
        "  levels=dataframe[column].unique()\n",
        "  vals=[]\n",
        "  for level in levels:\n",
        "    print(level)\n",
        "    try:\n",
        "      sub=dataframe[dataframe[column]==level]\n",
        "      data_crosstab = pd.crosstab(sub[actual],\n",
        "                              sub[preds], \n",
        "                                margins = False)\n",
        "      print(data_crosstab)\n",
        "      tp=data_crosstab[pos][pos]\n",
        "      tn=data_crosstab[neg][neg]\n",
        "      fp=data_crosstab[pos][neg]\n",
        "      fn=data_crosstab[neg][pos]\n",
        "      vals.append(metric(data_crosstab,tp,tn,fp,fn))\n",
        "      levells.append(level)\n",
        "    except:\n",
        "      pass\n",
        "  dff['level'],dff['metric']=levells,vals\n",
        "    \n",
        "  return(dff)"
      ],
      "metadata": {
        "id": "XFu5e202OVgd"
      },
      "execution_count": 159,
      "outputs": []
    },
    {
      "cell_type": "code",
      "source": [
        "def threshold_eval(tdat,threshold):\n",
        "  tdat=tdat.sort_values('metric',ascending=False).reset_index(drop=True)\n",
        "  comp=tdat.loc[0,'metric']\n",
        "  tdat['difference']=(comp/tdat['metric'])-1\n",
        "  sub=tdat[tdat['difference']>threshold]\n",
        "  return(tdat)"
      ],
      "metadata": {
        "id": "jsMRjodCRqjt"
      },
      "execution_count": 160,
      "outputs": []
    },
    {
      "cell_type": "code",
      "source": [
        "dat=preprocess(data,'Attrition')"
      ],
      "metadata": {
        "id": "jR7xbA9KscWd"
      },
      "execution_count": 147,
      "outputs": []
    },
    {
      "cell_type": "code",
      "source": [
        "dataf=model(dat,'Attrition','dt',0.1)"
      ],
      "metadata": {
        "id": "WzBEdOKa4Ya3"
      },
      "execution_count": 148,
      "outputs": []
    },
    {
      "cell_type": "code",
      "source": [
        "tdata=compare_groups(dataf,'Department',prop_parity,'Attrition','prediction','Yes','No')"
      ],
      "metadata": {
        "id": "iyBLMBt3PkBG"
      },
      "execution_count": null,
      "outputs": []
    },
    {
      "cell_type": "code",
      "source": [
        "tdata"
      ],
      "metadata": {
        "id": "azYhkgQhStnv"
      },
      "execution_count": null,
      "outputs": []
    },
    {
      "cell_type": "code",
      "source": [
        "threshold_eval(tdata,0.2)"
      ],
      "metadata": {
        "id": "fB8uWNI4Si7R"
      },
      "execution_count": null,
      "outputs": []
    },
    {
      "cell_type": "code",
      "source": [
        "def build_model_check_fairness(dfr,target,model,test_size,column,metric,pos,neg,threshold):\n",
        "  dat=preprocess(dfr,target)\n",
        "  dataf=modelling(dat,target,model,test_size)\n",
        "  tdata=compare_groups(dataf,column,metric,target,'prediction',pos,neg)\n",
        "  sum_dat=threshold_eval(tdata,threshold)\n",
        "  return(sum_dat)\n",
        "\n",
        "\n",
        "\n",
        "\n"
      ],
      "metadata": {
        "id": "FveF_TL5TH9d"
      },
      "execution_count": 166,
      "outputs": []
    },
    {
      "cell_type": "code",
      "source": [
        "build_model_check_fairness(data,'Attrition','dt',0.1,'Department',prop_parity,'Yes','No',0)"
      ],
      "metadata": {
        "colab": {
          "base_uri": "https://localhost:8080/",
          "height": 404
        },
        "id": "qr0epR9EU9BM",
        "outputId": "0b49fa30-1c8a-4dbe-db76-7d2ef5f9b8cb"
      },
      "execution_count": 170,
      "outputs": [
        {
          "output_type": "stream",
          "name": "stdout",
          "text": [
            "1\n",
            "prediction  No  Yes\n",
            "Attrition          \n",
            "No          68    7\n",
            "Yes          7    4\n",
            "2\n",
            "prediction  No  Yes\n",
            "Attrition          \n",
            "No          37    5\n",
            "Yes          6    5\n",
            "0\n",
            "prediction  No  Yes\n",
            "Attrition          \n",
            "No           5    1\n",
            "Yes          1    1\n"
          ]
        },
        {
          "output_type": "execute_result",
          "data": {
            "text/plain": [
              "   level    metric  difference\n",
              "0      1  0.837209    0.000000\n",
              "1      2  0.792453    0.056478\n",
              "2      0  0.750000    0.116279"
            ],
            "text/html": [
              "\n",
              "  <div id=\"df-ce13c056-24eb-4227-92c0-4365d6e65eae\">\n",
              "    <div class=\"colab-df-container\">\n",
              "      <div>\n",
              "<style scoped>\n",
              "    .dataframe tbody tr th:only-of-type {\n",
              "        vertical-align: middle;\n",
              "    }\n",
              "\n",
              "    .dataframe tbody tr th {\n",
              "        vertical-align: top;\n",
              "    }\n",
              "\n",
              "    .dataframe thead th {\n",
              "        text-align: right;\n",
              "    }\n",
              "</style>\n",
              "<table border=\"1\" class=\"dataframe\">\n",
              "  <thead>\n",
              "    <tr style=\"text-align: right;\">\n",
              "      <th></th>\n",
              "      <th>level</th>\n",
              "      <th>metric</th>\n",
              "      <th>difference</th>\n",
              "    </tr>\n",
              "  </thead>\n",
              "  <tbody>\n",
              "    <tr>\n",
              "      <th>0</th>\n",
              "      <td>1</td>\n",
              "      <td>0.837209</td>\n",
              "      <td>0.000000</td>\n",
              "    </tr>\n",
              "    <tr>\n",
              "      <th>1</th>\n",
              "      <td>2</td>\n",
              "      <td>0.792453</td>\n",
              "      <td>0.056478</td>\n",
              "    </tr>\n",
              "    <tr>\n",
              "      <th>2</th>\n",
              "      <td>0</td>\n",
              "      <td>0.750000</td>\n",
              "      <td>0.116279</td>\n",
              "    </tr>\n",
              "  </tbody>\n",
              "</table>\n",
              "</div>\n",
              "      <button class=\"colab-df-convert\" onclick=\"convertToInteractive('df-ce13c056-24eb-4227-92c0-4365d6e65eae')\"\n",
              "              title=\"Convert this dataframe to an interactive table.\"\n",
              "              style=\"display:none;\">\n",
              "        \n",
              "  <svg xmlns=\"http://www.w3.org/2000/svg\" height=\"24px\"viewBox=\"0 0 24 24\"\n",
              "       width=\"24px\">\n",
              "    <path d=\"M0 0h24v24H0V0z\" fill=\"none\"/>\n",
              "    <path d=\"M18.56 5.44l.94 2.06.94-2.06 2.06-.94-2.06-.94-.94-2.06-.94 2.06-2.06.94zm-11 1L8.5 8.5l.94-2.06 2.06-.94-2.06-.94L8.5 2.5l-.94 2.06-2.06.94zm10 10l.94 2.06.94-2.06 2.06-.94-2.06-.94-.94-2.06-.94 2.06-2.06.94z\"/><path d=\"M17.41 7.96l-1.37-1.37c-.4-.4-.92-.59-1.43-.59-.52 0-1.04.2-1.43.59L10.3 9.45l-7.72 7.72c-.78.78-.78 2.05 0 2.83L4 21.41c.39.39.9.59 1.41.59.51 0 1.02-.2 1.41-.59l7.78-7.78 2.81-2.81c.8-.78.8-2.07 0-2.86zM5.41 20L4 18.59l7.72-7.72 1.47 1.35L5.41 20z\"/>\n",
              "  </svg>\n",
              "      </button>\n",
              "      \n",
              "  <style>\n",
              "    .colab-df-container {\n",
              "      display:flex;\n",
              "      flex-wrap:wrap;\n",
              "      gap: 12px;\n",
              "    }\n",
              "\n",
              "    .colab-df-convert {\n",
              "      background-color: #E8F0FE;\n",
              "      border: none;\n",
              "      border-radius: 50%;\n",
              "      cursor: pointer;\n",
              "      display: none;\n",
              "      fill: #1967D2;\n",
              "      height: 32px;\n",
              "      padding: 0 0 0 0;\n",
              "      width: 32px;\n",
              "    }\n",
              "\n",
              "    .colab-df-convert:hover {\n",
              "      background-color: #E2EBFA;\n",
              "      box-shadow: 0px 1px 2px rgba(60, 64, 67, 0.3), 0px 1px 3px 1px rgba(60, 64, 67, 0.15);\n",
              "      fill: #174EA6;\n",
              "    }\n",
              "\n",
              "    [theme=dark] .colab-df-convert {\n",
              "      background-color: #3B4455;\n",
              "      fill: #D2E3FC;\n",
              "    }\n",
              "\n",
              "    [theme=dark] .colab-df-convert:hover {\n",
              "      background-color: #434B5C;\n",
              "      box-shadow: 0px 1px 3px 1px rgba(0, 0, 0, 0.15);\n",
              "      filter: drop-shadow(0px 1px 2px rgba(0, 0, 0, 0.3));\n",
              "      fill: #FFFFFF;\n",
              "    }\n",
              "  </style>\n",
              "\n",
              "      <script>\n",
              "        const buttonEl =\n",
              "          document.querySelector('#df-ce13c056-24eb-4227-92c0-4365d6e65eae button.colab-df-convert');\n",
              "        buttonEl.style.display =\n",
              "          google.colab.kernel.accessAllowed ? 'block' : 'none';\n",
              "\n",
              "        async function convertToInteractive(key) {\n",
              "          const element = document.querySelector('#df-ce13c056-24eb-4227-92c0-4365d6e65eae');\n",
              "          const dataTable =\n",
              "            await google.colab.kernel.invokeFunction('convertToInteractive',\n",
              "                                                     [key], {});\n",
              "          if (!dataTable) return;\n",
              "\n",
              "          const docLinkHtml = 'Like what you see? Visit the ' +\n",
              "            '<a target=\"_blank\" href=https://colab.research.google.com/notebooks/data_table.ipynb>data table notebook</a>'\n",
              "            + ' to learn more about interactive tables.';\n",
              "          element.innerHTML = '';\n",
              "          dataTable['output_type'] = 'display_data';\n",
              "          await google.colab.output.renderOutput(dataTable, element);\n",
              "          const docLink = document.createElement('div');\n",
              "          docLink.innerHTML = docLinkHtml;\n",
              "          element.appendChild(docLink);\n",
              "        }\n",
              "      </script>\n",
              "    </div>\n",
              "  </div>\n",
              "  "
            ]
          },
          "metadata": {},
          "execution_count": 170
        }
      ]
    },
    {
      "cell_type": "code",
      "source": [
        "data=pd.read_csv('/content/HR-Employee-Attrition.csv')"
      ],
      "metadata": {
        "id": "ayIrKt9wqy0_"
      },
      "execution_count": 165,
      "outputs": []
    },
    {
      "cell_type": "code",
      "source": [
        "x=data[['Age','Fare']]\n",
        "y=data['Sex']"
      ],
      "metadata": {
        "id": "TUa3KGfk_Dgi"
      },
      "execution_count": 96,
      "outputs": []
    }
  ]
}